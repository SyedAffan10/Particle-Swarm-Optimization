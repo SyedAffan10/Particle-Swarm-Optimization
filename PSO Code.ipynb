{
 "cells": [
  {
   "cell_type": "markdown",
   "id": "b8d71927",
   "metadata": {},
   "source": [
    "Reference Code Link : https://niapy.org/en/stable/tutorials/feature_selection.html"
   ]
  },
  {
   "cell_type": "markdown",
   "id": "16594b44",
   "metadata": {},
   "source": [
    "# Import Libraries"
   ]
  },
  {
   "cell_type": "code",
   "execution_count": 2,
   "id": "dc9aaa9c",
   "metadata": {},
   "outputs": [],
   "source": [
    "# !pip install niapy\n",
    "# !pip install scikit-learn\n",
    "# !pip install pandas\n",
    "# !pip install numpy\n",
    "\n",
    "import pandas as pd\n",
    "import numpy as np"
   ]
  },
  {
   "cell_type": "markdown",
   "id": "3fd1b526",
   "metadata": {},
   "source": [
    "# Load Dataset"
   ]
  },
  {
   "cell_type": "code",
   "execution_count": 3,
   "id": "1df4c8f9",
   "metadata": {},
   "outputs": [],
   "source": [
    "df = pd.read_csv(\"./Dataset.csv\")"
   ]
  },
  {
   "cell_type": "code",
   "execution_count": 4,
   "id": "4cd77508",
   "metadata": {},
   "outputs": [],
   "source": [
    "df.drop(columns=['Unnamed: 0'], inplace=True)"
   ]
  },
  {
   "cell_type": "code",
   "execution_count": 5,
   "id": "a8e5f8a0",
   "metadata": {},
   "outputs": [],
   "source": [
    "df.head()"
   ]
  },
  {
   "cell_type": "code",
   "execution_count": 6,
   "id": "59ba0f74",
   "metadata": {},
   "outputs": [],
   "source": [
    "#Reading Target Dataset\n",
    "target = pd.read_csv(\"./PSO_label.csv\")\n",
    "target.head()"
   ]
  },
  {
   "cell_type": "code",
   "execution_count": 7,
   "id": "15f3d439",
   "metadata": {},
   "outputs": [],
   "source": [
    "target.drop(columns=['Unnamed: 0'],inplace=True)\n",
    "target.head()"
   ]
  },
  {
   "cell_type": "code",
   "execution_count": 8,
   "id": "e8ed855c",
   "metadata": {},
   "outputs": [],
   "source": [
    "X = df # Feature Values\n",
    "y = target.Class # Target Values\n",
    "feature_names = df.columns # Column Names Will be feature"
   ]
  },
  {
   "cell_type": "markdown",
   "id": "93b327b1",
   "metadata": {},
   "source": [
    "# Applying PSO"
   ]
  },
  {
   "cell_type": "code",
   "execution_count": 9,
   "id": "27270fda",
   "metadata": {},
   "outputs": [],
   "source": [
    "from sklearn.model_selection import train_test_split, cross_val_score\n",
    "from sklearn.svm import SVC\n",
    "\n",
    "from niapy.problems import Problem\n",
    "from niapy.task import Task\n",
    "from niapy.algorithms.basic import ParticleSwarmOptimization\n",
    "\n",
    "#Train Test Split\n",
    "X_train, X_test, y_train, y_test = train_test_split(X, y, test_size=0.2, stratify=y, random_state=42)\n",
    "\n",
    "class SVMFeatureSelection(Problem):\n",
    "    def __init__(self, X_train, y_train, alpha=0.99):\n",
    "        super().__init__(dimension=X_train.shape[1], lower=0, upper=1)\n",
    "        self.X_train = X_train\n",
    "        self.y_train = y_train\n",
    "        self.alpha = alpha\n",
    "\n",
    "    def _evaluate(self, x):\n",
    "        selected_indices = np.where(x > 0.99)[0]\n",
    "        num_selected = len(selected_indices)\n",
    "        \n",
    "        if num_selected == 0:\n",
    "            return 1.0\n",
    "\n",
    "        # Convert selected indices to integers\n",
    "        selected_indices = selected_indices.astype(int)\n",
    "\n",
    "        # Use the indices for indexing\n",
    "        X_train_selected = self.X_train.iloc[:, selected_indices]\n",
    "\n",
    "        # Cross Validation Scoring\n",
    "        accuracy = cross_val_score(SVC(), X_train_selected, self.y_train, cv=2, n_jobs=-1).mean()\n",
    "        score = 1 - accuracy\n",
    "        num_features = self.X_train.shape[1]\n",
    "        return self.alpha * score + (1 - self.alpha) * (num_selected / num_features)\n"
   ]
  },
  {
   "cell_type": "code",
   "execution_count": 10,
   "id": "a9c9d6b2",
   "metadata": {},
   "outputs": [],
   "source": [
    "#Our issue\n",
    "problem = SVMFeatureSelection(X_train, y_train)\n",
    "\n",
    "#Task\n",
    "task = Task(problem, max_iters=100)\n",
    "\n",
    "# Algorithm to solve the task\n",
    "algorithm = ParticleSwarmOptimization(population_size=15, seed=42)\n",
    "\n",
    "# Best Useful Features\n",
    "best_features, best_fitness = algorithm.run(task)\n",
    "\n",
    "# Selected Features for PSO \n",
    "selected_features = (best_features > 0.99)\n",
    "print('Number of selected features:', selected_features.sum())\n",
    "print('Selected features:', ', '.join(feature_names[selected_features].tolist()))\n",
    "\n",
    "# Models\n",
    "model_selected = SVC()\n",
    "model_all = SVC()\n",
    "\n",
    "# Training on Model_1 using selected features\n",
    "X_train_selected = X_train[:, selected_features]\n",
    "X_test_selected = X_test[:, selected_features]\n",
    "\n",
    "model_1 = model_selected.fit(X_train_selected, y_train)\n",
    "subset_accuracy = model_1.score(X_test_selected, y_test)\n",
    "print('Subset accuracy:', subset_accuracy)\n",
    "\n",
    "\n",
    "# Training on Model_2 using all features\n",
    "model_2 = model_all.fit(X_train, y_train)\n",
    "all_features_accuracy = model_2.score(X_test, y_test)\n",
    "print('All Features Accuracy:', all_features_accuracy)\n"
   ]
  },
  {
   "cell_type": "markdown",
   "id": "0368d399",
   "metadata": {},
   "source": [
    "# Confusion Matrix For All Features"
   ]
  },
  {
   "cell_type": "code",
   "execution_count": 11,
   "id": "aca36dec",
   "metadata": {},
   "outputs": [],
   "source": [
    "y_predicted_2 = model_2.predict(X_test)\n",
    "\n",
    "from sklearn.metrics import confusion_matrix\n",
    "from sklearn.metrics import precision_score, recall_score, f1_score\n",
    "\n",
    "# calculate precision, recall, and f1 score\n",
    "precision = precision_score(y_test, y_predicted_2, average='micro')\n",
    "recall = recall_score(y_test, y_predicted_2, average='micro')\n",
    "f1 = f1_score(y_test, y_predicted_2, average='micro')\n",
    "cm = confusion_matrix(y_test, y_predicted_2)\n",
    "print(\"Confusion Matrix:\\n\", cm)\n",
    "\n",
    "scores = []\n",
    "scores.append({\n",
    "        'Precision': precision,\n",
    "        'Recall': recall,\n",
    "        'F1 Score': f1\n",
    "    })\n",
    "\n",
    "df = pd.DataFrame(scores, columns=['Precision','Recall','F1 Score'])\n",
    "df"
   ]
  },
  {
   "cell_type": "code",
   "execution_count": 12,
   "id": "d026597f",
   "metadata": {},
   "outputs": [],
   "source": [
    "%matplotlib inline\n",
    "import matplotlib.pyplot as plt\n",
    "import seaborn as sn\n",
    "plt.figure(figsize=(10,7))\n",
    "sn.heatmap(cm, annot=True)\n",
    "plt.xlabel('Predicted')\n",
    "plt.ylabel('Truth')"
   ]
  }
 ],
 "metadata": {
  "kernelspec": {
   "display_name": "Python 3 (ipykernel)",
   "language": "python",
   "name": "python3"
  },
  "language_info": {
   "codemirror_mode": {
    "name": "ipython",
    "version": 3
   },
   "file_extension": ".py",
   "mimetype": "text/x-python",
   "name": "python",
   "nbconvert_exporter": "python",
   "pygments_lexer": "ipython3",
   "version": "3.10.9"
  }
 },
 "nbformat": 4,
 "nbformat_minor": 5
}
